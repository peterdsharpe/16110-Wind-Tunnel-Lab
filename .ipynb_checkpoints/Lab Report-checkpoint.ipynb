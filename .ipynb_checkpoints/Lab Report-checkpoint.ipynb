{
 "cells": [
  {
   "cell_type": "markdown",
   "metadata": {},
   "source": [
    "\n",
    "# Wind Tunnel Lab Report\n",
    "\n",
    "Peter Sharpe\n",
    "\n",
    "MIT 16.110: Flight Vehicle Aerodynamics"
   ]
  },
  {
   "cell_type": "markdown",
   "metadata": {},
   "source": [
    "## Abstract\n",
    "\n",
    "### TODO do this"
   ]
  },
  {
   "cell_type": "markdown",
   "metadata": {},
   "source": [
    "## Document Notes\n",
    "This lab report is a fully-interactive Jupyter Notebook available at https://tinyurl.com/16110LabSharpe. Assuming you have a standard scientific Python >=3.7 distribution (such as Anaconda) installed, you can freely interact with this entire document as you please.\n",
    "\n",
    "Alternatively, the following Binder link will allow you to interact with this document in your browser: \n",
    "\n",
    "### TODO add binder link\n",
    "\n",
    "We begin our analysis with the following standard imports:"
   ]
  },
  {
   "cell_type": "code",
   "execution_count": 2,
   "metadata": {
    "pycharm": {
     "is_executing": false
    }
   },
   "outputs": [],
   "source": [
    "import numpy as np\n",
    "import matplotlib.pyplot as plt\n",
    "import matplotlib.style as style\n",
    "import torch # PyTorch, a numerics package (primarily used for machine learning, \n",
    "             # but we're using it here as an automatic differentiation framework \n",
    "             # for uncertainty propagation)\n",
    "import pint"
   ]
  },
  {
   "cell_type": "markdown",
   "metadata": {},
   "source": [
    "We also set up these libraries:"
   ]
  },
  {
   "cell_type": "code",
   "execution_count": 3,
   "metadata": {
    "pycharm": {
     "is_executing": false
    }
   },
   "outputs": [],
   "source": [
    "style.use('seaborn') # Use the seaborn plotting style\n",
    "u = pint.UnitRegistry() # Use the unit conversions from the Pint package"
   ]
  },
  {
   "cell_type": "markdown",
   "metadata": {},
   "source": [
    "## Experiment Setup\n",
    "\n",
    "### TODO do this\n",
    "\n",
    "In this lab, we seek to determine the drag on a NACA 0050 body of revolution of length $l = 10 $ in. We approach this problem with three methods:\n",
    "\n",
    "1. Direct force measurement\n",
    "2. Wake survey measurement\n",
    "3. Computational modeling\n",
    "\n",
    "The first two methods described here are experimental in nature. The experimental apparatus consists of a 1:1 scale model of the body of revolution placed in Building 31's 1.5 x 1.5 ft. open-jet tunnel. \n",
    "\n",
    "The body of revolution is held in place with a small, streamlined strut. This strut consists of a straight extruded NACA 0010 airfoil with a chord $c = 1.25$ in. The strut meets the body of revolution in such a way that their trailing edges are coincident. Furthermore, the body of revolution is held exactly in the center of the 1.5 x 1.5 ft. tunnel, which implies that approximately 9\" of the extruded strut sees the jet's airflow (assuming the free jet stays collimated). Thus, the exposed planform area of the strut is:\n",
    "\n",
    "$$S_{strut} = 9\" \\cdot 1.25\" = 11.25 in^2$$ "
   ]
  },
  {
   "cell_type": "markdown",
   "metadata": {},
   "source": [
    "## Data Imports\n",
    "This section details the process of importing the raw data from our experiment. This can be freely skipped, but it has been included here to support scientific reproducibility.\n",
    "\n",
    "All data in this section is available at: https://tinyurl.com/16110LabSharpeData. The /data/ subdirectory should be placed in the same directory as this Jupyter notebook."
   ]
  },
  {
   "cell_type": "markdown",
   "metadata": {},
   "source": [
    "### Direct Force Measurement Section Data Imports\n",
    "First, we write a function that will parse the `*.csv` files taken during the direct force measurement section of our experiment."
   ]
  },
  {
   "cell_type": "code",
   "execution_count": 4,
   "metadata": {
    "code_folding": [
     0
    ],
    "pycharm": {
     "is_executing": false
    }
   },
   "outputs": [],
   "source": [
    "def parse_wind_tunnel_csv(filename):\n",
    "    \"\"\"\n",
    "    Parses the CSV files written during the experiment.\n",
    "    :param filename: Name of the file to be read.\n",
    "    :return: Data, in the format as follows:\n",
    "    ### All of the wind tunnel data files are Nx2 arrays in the format [load_cell_voltage, measured_dynamic_pressure_in_torr].\n",
    "    ### Each row represents a separate data collect (0.001 sec spacing).\n",
    "    ### Note that the load cell voltage should be converted to load via a linear fit to tare data.\n",
    "    ### Note that the dynamic pressure measurements should be calibrated against the tare values.\n",
    "    \"\"\"\n",
    "    raw_data = np.genfromtxt(\n",
    "        filename,\n",
    "        skip_header=7,\n",
    "        delimiter=',',\n",
    "        usecols=(2, 3),\n",
    "        dtype='str'\n",
    "    )\n",
    "    data = np.zeros(raw_data.shape)\n",
    "    for i in range(raw_data.shape[0]):\n",
    "        for j in range(raw_data.shape[1]):\n",
    "            data[i, j] = float(raw_data[i, j].split(\"\\\"\")[1])\n",
    "\n",
    "    return data"
   ]
  },
  {
   "cell_type": "markdown",
   "metadata": {},
   "source": [
    "We then proceed to read the wind tunnel data as follows:"
   ]
  },
  {
   "cell_type": "code",
   "execution_count": 5,
   "metadata": {
    "code_folding": [
     0
    ],
    "pycharm": {
     "is_executing": false
    }
   },
   "outputs": [],
   "source": [
    "# Load cell tares before experiments\n",
    "wt_load_cell_tare_no_weight_before_experiments = parse_wind_tunnel_csv(\n",
    "    'data/load_cell_tare_no_weight_before_all_experiments/Analog - 10-24-2019 10-29-09.787 AM.csv')\n",
    "wt_load_cell_tare_8oz_weight_before_experiments = parse_wind_tunnel_csv(\n",
    "    'data/load_cell_tare_8oz_weight_before_all_experiments/Analog - 10-24-2019 10-31-00.065 AM.csv')\n",
    "\n",
    "# Dynamic pressure tare before experiment (this is redundant from prior data, probably won't use this)\n",
    "wt_q_tare_before_experiments = parse_wind_tunnel_csv(\n",
    "    'data/load_cell_and_q_tare_no_weight_no_speed_before_all_experiments/Analog - 10-24-2019 10-36-31.486 AM.csv')\n",
    "\n",
    "# Airfoil at-speed data\n",
    "wt_raw_data_30_mph = parse_wind_tunnel_csv(\n",
    "    'data/transition_measurement_approx_30_mph/Analog - 10-24-2019 10-40-07.697 AM.csv')\n",
    "wt_raw_data_35_mph = parse_wind_tunnel_csv(\n",
    "    'data/transition_measurement_approx_35_mph/Analog - 10-24-2019 10-43-23.611 AM.csv')\n",
    "wt_raw_data_40_mph = parse_wind_tunnel_csv(\n",
    "    'data/transition_measurement_approx_40_mph/Analog - 10-24-2019 10-45-19.445 AM.csv')\n",
    "wt_raw_data_50_mph = parse_wind_tunnel_csv(\n",
    "    'data/transition_measurement_approx_50_mph/Analog - 10-24-2019 10-47-22.874 AM.csv')\n",
    "wt_raw_data_60_mph = parse_wind_tunnel_csv(\n",
    "    'data/transition_measurement_approx_60_mph/Analog - 10-24-2019 10-49-37.397 AM.csv')\n",
    "wt_raw_data_70_mph = parse_wind_tunnel_csv(\n",
    "    'data/transition_measurement_approx_70_mph/Analog - 10-24-2019 10-54-41.000 AM.csv')\n",
    "wt_raw_data_73_mph = parse_wind_tunnel_csv(\n",
    "    'data/transition_measurement_approx_73_mph/Analog - 10-24-2019 11-00-01.410 AM.csv')\n",
    "\n",
    "# Tares after experiments\n",
    "wt_load_cell_tare_no_weight_after_experiments = parse_wind_tunnel_csv(\n",
    "    'data/load_cell_tare_no_weight_after_transition_measurement/Analog - 10-24-2019 11-04-20.174 AM.csv')\n",
    "wt_load_cell_tare_2oz_weight_after_experiments = parse_wind_tunnel_csv(\n",
    "    'data/load_cell_tare_2oz_weight_after_transition_measurement/Analog - 10-24-2019 11-06-06.230 AM.csv')\n",
    "wt_load_cell_tare_8oz_weight_after_experiments = parse_wind_tunnel_csv(\n",
    "    'data/load_cell_tare_8oz_weight_after_transition_measurement/Analog - 10-24-2019 11-05-31.538 AM.csv')"
   ]
  },
  {
   "cell_type": "markdown",
   "metadata": {},
   "source": [
    "### Rake Section Data Imports\n",
    "\n",
    "Next, we write a function that will read our manometer data taken during the rake section of our experiment:"
   ]
  },
  {
   "cell_type": "code",
   "execution_count": 6,
   "metadata": {
    "code_folding": [
     0
    ],
    "pycharm": {
     "is_executing": false
    }
   },
   "outputs": [],
   "source": [
    "def parse_manometer_csv(filename):\n",
    "    \"\"\"\n",
    "    Reads the manometer data from the CSV files taken during the experiment.\n",
    "    :param filename: Name of the CSV file to be read\n",
    "    :return: a tuple of data, as follows:\n",
    "    ### Manometer Data Format\n",
    "    ### All of the manometer data files are vectors of length 25 corresponding to the manometer measurement at that pressure probe.\n",
    "    \"\"\"\n",
    "    raw_data = np.genfromtxt(\n",
    "        filename,\n",
    "        delimiter=',',\n",
    "        skip_header=1\n",
    "    )\n",
    "\n",
    "    manometer_40_mph_angle_1 = raw_data[:, 2]\n",
    "    manometer_40_mph_angle_2 = raw_data[:, 3]\n",
    "    manometer_60_mph_angle_1 = raw_data[:, 7]\n",
    "    manometer_60_mph_angle_2 = raw_data[:, 8]\n",
    "\n",
    "    return manometer_40_mph_angle_1, manometer_40_mph_angle_2, manometer_60_mph_angle_1, manometer_60_mph_angle_2\n"
   ]
  },
  {
   "cell_type": "markdown",
   "metadata": {},
   "source": [
    "Using the aformentioned function, we read the manometer data:"
   ]
  },
  {
   "cell_type": "code",
   "execution_count": 7,
   "metadata": {
    "pycharm": {
     "is_executing": false,
     "name": "#%%\n"
    }
   },
   "outputs": [],
   "source": [
    "manometer_40_mph_angle_1, manometer_40_mph_angle_2, manometer_60_mph_angle_1, manometer_60_mph_angle_2 = parse_manometer_csv(\n",
    "    'data/manometer_readings.csv'\n",
    ")"
   ]
  },
  {
   "cell_type": "markdown",
   "metadata": {},
   "source": [
    "We can verify that the manometer data is sensible by visualizing the manometer measurements for the 40 mph, angle 1 case. (Here, angle 1 and angle 2 are taken to refer to manometer measurements with the rake in the $+45°$ and $-45°$ positions, respectively.)"
   ]
  },
  {
   "cell_type": "code",
   "execution_count": 11,
   "metadata": {},
   "outputs": [
    {
     "data": {
      "text/plain": [
       "Text(0, 0.5, 'Manometer Reading [inches]')"
      ]
     },
     "execution_count": 11,
     "metadata": {},
     "output_type": "execute_result"
    },
    {
     "data": {
      "image/png": "[encoded data removed]",
      "text/plain": [
       "<Figure size 576x396 with 1 Axes>"
      ]
     },
     "metadata": {},
     "output_type": "display_data"
    }
   ],
   "source": [
    "plt.bar(np.arange(len(manometer_40_mph_angle_1))+1,manometer_40_mph_angle_1)\n",
    "plt.title(\"Manometer Readings; 40 mph case, angle 1\")\n",
    "plt.xlabel(\"Probe Number\")\n",
    "plt.ylabel(\"Manometer Reading [inches]\")"
   ]
  },
  {
   "cell_type": "markdown",
   "metadata": {},
   "source": [
    "This data appears to be qualitatively correct. The right-most probe is measuring the "
   ]
  },
  {
   "cell_type": "markdown",
   "metadata": {
    "pycharm": {
     "name": "#%% md\n"
    }
   },
   "source": [
    "\n",
    "## Preliminary Data Processing\n",
    "In this section, we begin to clean up and process the data."
   ]
  },
  {
   "cell_type": "markdown",
   "metadata": {},
   "source": [
    "First, we write a function to get the standard deviation of the mean of a dataset. Mathematically, this is expressed as the following relation:\n",
    "\n",
    "$$ \\sigma_{\\bar X} = \\frac{1}{\\sqrt{n}} \\sigma_X $$\n",
    "\n",
    "where:\n",
    "\n",
    "$ X$ is the dataset,\n",
    "$ \\sigma_{\\bar X}$ is the standard deviation of the dataset's mean,\n",
    "$ n$ is the number of samples in the dataset, and\n",
    "$ \\sigma_X$ is the standard deviation of the dataset itself."
   ]
  }
 ],
 "metadata": {
  "kernelspec": {
   "display_name": "Python 3",
   "language": "python",
   "name": "python3"
  },
  "language_info": {
   "codemirror_mode": {
    "name": "ipython",
    "version": 3
   },
   "file_extension": ".py",
   "mimetype": "text/x-python",
   "name": "python",
   "nbconvert_exporter": "python",
   "pygments_lexer": "ipython3",
   "version": "3.7.4"
  },
  "pycharm": {
   "stem_cell": {
    "cell_type": "raw",
    "metadata": {
     "collapsed": false
    },
    "source": []
   }
  },
  "varInspector": {
   "cols": {
    "lenName": 16,
    "lenType": 16,
    "lenVar": 40
   },
   "kernels_config": {
    "python": {
     "delete_cmd_postfix": "",
     "delete_cmd_prefix": "del ",
     "library": "var_list.py",
     "varRefreshCmd": "print(var_dic_list())"
    },
    "r": {
     "delete_cmd_postfix": ") ",
     "delete_cmd_prefix": "rm(",
     "library": "var_list.r",
     "varRefreshCmd": "cat(var_dic_list()) "
    }
   },
   "oldHeight": 459,
   "position": {
    "height": "40px",
    "left": "1328px",
    "right": "20px",
    "top": "120px",
    "width": "350px"
   },
   "types_to_exclude": [
    "module",
    "function",
    "builtin_function_or_method",
    "instance",
    "_Feature"
   ],
   "varInspector_section_display": "none",
   "window_display": true
  }
 },
 "nbformat": 4,
 "nbformat_minor": 2
}
